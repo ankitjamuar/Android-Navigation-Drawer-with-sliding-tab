{
  "nbformat": 4,
  "nbformat_minor": 0,
  "metadata": {
    "colab": {
      "name": "CIFAR_CNN.ipynb",
      "provenance": [],
      "collapsed_sections": [],
      "authorship_tag": "ABX9TyOtPdv6rOFmn9CDYhYUHPrc",
      "include_colab_link": true
    },
    "kernelspec": {
      "name": "python3",
      "display_name": "Python 3"
    },
    "accelerator": "GPU"
  },
  "cells": [
    {
      "cell_type": "markdown",
      "metadata": {
        "id": "view-in-github",
        "colab_type": "text"
      },
      "source": [
        "<a href=\"https://colab.research.google.com/github/ankitjamuar/Android-Navigation-Drawer-with-sliding-tab/blob/master/CIFAR_CNN.ipynb\" target=\"_parent\"><img src=\"https://colab.research.google.com/assets/colab-badge.svg\" alt=\"Open In Colab\"/></a>"
      ]
    },
    {
      "cell_type": "code",
      "metadata": {
        "id": "SX_d79rGh24e",
        "colab_type": "code",
        "outputId": "223c7f46-c2c5-431e-f059-6f4fbe77db44",
        "colab": {
          "base_uri": "https://localhost:8080/",
          "height": 34
        }
      },
      "source": [
        "import tensorflow as tf\n",
        "print(tf.__version__)"
      ],
      "execution_count": 2,
      "outputs": [
        {
          "output_type": "stream",
          "text": [
            "1.15.0\n"
          ],
          "name": "stdout"
        }
      ]
    },
    {
      "cell_type": "code",
      "metadata": {
        "id": "BXrSlGj9h6Wm",
        "colab_type": "code",
        "colab": {}
      },
      "source": [
        "import numpy as np\n",
        "import matplotlib.pyplot as plt\n",
        "classes = [\"airplane\",\"automobile\",\" bird \",\"cat \",\"deer \",\"dog \",\"frog \",\"horse \",\"ship \",\"truck\"]"
      ],
      "execution_count": 0,
      "outputs": []
    },
    {
      "cell_type": "code",
      "metadata": {
        "id": "_O3R661IiCTp",
        "colab_type": "code",
        "colab": {
          "base_uri": "https://localhost:8080/",
          "height": 51
        },
        "outputId": "d17cb88e-0649-470c-abf1-2ed1f25ccabd"
      },
      "source": [
        "(x_train, y_train), (x_test,y_test) = tf.keras.datasets.cifar10.load_data()"
      ],
      "execution_count": 4,
      "outputs": [
        {
          "output_type": "stream",
          "text": [
            "Downloading data from https://www.cs.toronto.edu/~kriz/cifar-10-python.tar.gz\n",
            "170500096/170498071 [==============================] - 2s 0us/step\n"
          ],
          "name": "stdout"
        }
      ]
    },
    {
      "cell_type": "code",
      "metadata": {
        "id": "hOfcaCN3rlKG",
        "colab_type": "code",
        "colab": {}
      },
      "source": [
        "x_train = x_train/255\n",
        "x_test = x_test/255"
      ],
      "execution_count": 0,
      "outputs": []
    },
    {
      "cell_type": "code",
      "metadata": {
        "id": "fZUa-jC0rnlt",
        "colab_type": "code",
        "colab": {}
      },
      "source": [
        "model = tf.keras.models.Sequential()"
      ],
      "execution_count": 0,
      "outputs": []
    },
    {
      "cell_type": "code",
      "metadata": {
        "id": "LMp0Qf7axGMt",
        "colab_type": "code",
        "colab": {}
      },
      "source": [
        "model = tf.keras.models.Sequential()\n",
        "model.add(tf.keras.layers.Conv2D(activation=\"relu\", input_shape=[32,32,3], filters=32,kernel_size=3, padding=\"same\"))\n",
        "model.add(tf.keras.layers.Conv2D(activation=\"relu\", filters=32,kernel_size=3, padding=\"same\"))\n",
        "model.add(tf.keras.layers.MaxPool2D(strides=2, pool_size=2, padding=\"valid\"))\n",
        "model.add(tf.keras.layers.Conv2D(filters=64,kernel_size=3,padding=\"same\",activation=\"relu\"))\n",
        "model.add(tf.keras.layers.Conv2D(filters=64, kernel_size=3, padding=\"same\", activation=\"relu\"))\n",
        "model.add(tf.keras.layers.MaxPool2D(pool_size=2, strides=2, padding='valid'))\n",
        "model.add(tf.keras.layers.Conv2D(activation=\"relu\", filters=32,kernel_size=3, padding=\"same\"))\n",
        "model.add(tf.keras.layers.MaxPool2D(strides=2, pool_size=2, padding=\"valid\"))\n",
        "model.add(tf.keras.layers.Conv2D(filters=64,kernel_size=3,padding=\"same\",activation=\"relu\"))\n",
        "model.add(tf.keras.layers.Conv2D(filters=64, kernel_size=3, padding=\"same\", activation=\"relu\"))\n",
        "model.add(tf.keras.layers.MaxPool2D(pool_size=2, strides=2, padding='valid'))\n",
        "\n",
        "model.add(tf.keras.layers.Flatten())\n",
        "model.add(tf.keras.layers.Dense(units=128,activation=\"relu\"))\n",
        "model.add(tf.keras.layers.Dense(units=10,activation=\"softmax\"))"
      ],
      "execution_count": 0,
      "outputs": []
    },
    {
      "cell_type": "code",
      "metadata": {
        "id": "4xdurHB4x8Ub",
        "colab_type": "code",
        "outputId": "82d67eda-3f9d-4136-ae04-f712c840c24c",
        "colab": {
          "base_uri": "https://localhost:8080/",
          "height": 629
        }
      },
      "source": [
        "model.summary()"
      ],
      "execution_count": 129,
      "outputs": [
        {
          "output_type": "stream",
          "text": [
            "Model: \"sequential_2\"\n",
            "_________________________________________________________________\n",
            "Layer (type)                 Output Shape              Param #   \n",
            "=================================================================\n",
            "conv2d_4 (Conv2D)            (None, 32, 32, 32)        896       \n",
            "_________________________________________________________________\n",
            "conv2d_5 (Conv2D)            (None, 32, 32, 32)        9248      \n",
            "_________________________________________________________________\n",
            "max_pooling2d_2 (MaxPooling2 (None, 16, 16, 32)        0         \n",
            "_________________________________________________________________\n",
            "conv2d_6 (Conv2D)            (None, 16, 16, 64)        18496     \n",
            "_________________________________________________________________\n",
            "conv2d_7 (Conv2D)            (None, 16, 16, 64)        36928     \n",
            "_________________________________________________________________\n",
            "max_pooling2d_3 (MaxPooling2 (None, 8, 8, 64)          0         \n",
            "_________________________________________________________________\n",
            "conv2d_8 (Conv2D)            (None, 8, 8, 32)          18464     \n",
            "_________________________________________________________________\n",
            "max_pooling2d_4 (MaxPooling2 (None, 4, 4, 32)          0         \n",
            "_________________________________________________________________\n",
            "conv2d_9 (Conv2D)            (None, 4, 4, 64)          18496     \n",
            "_________________________________________________________________\n",
            "conv2d_10 (Conv2D)           (None, 4, 4, 64)          36928     \n",
            "_________________________________________________________________\n",
            "max_pooling2d_5 (MaxPooling2 (None, 2, 2, 64)          0         \n",
            "_________________________________________________________________\n",
            "flatten_1 (Flatten)          (None, 256)               0         \n",
            "_________________________________________________________________\n",
            "dense_2 (Dense)              (None, 128)               32896     \n",
            "_________________________________________________________________\n",
            "dense_3 (Dense)              (None, 10)                1290      \n",
            "=================================================================\n",
            "Total params: 173,642\n",
            "Trainable params: 173,642\n",
            "Non-trainable params: 0\n",
            "_________________________________________________________________\n"
          ],
          "name": "stdout"
        }
      ]
    },
    {
      "cell_type": "code",
      "metadata": {
        "id": "Q0POEPGZzRwU",
        "colab_type": "code",
        "colab": {}
      },
      "source": [
        "model.compile(loss=\"sparse_categorical_crossentropy\",\n",
        "              optimizer=\"Adam\", metrics=[\"sparse_categorical_accuracy\"])"
      ],
      "execution_count": 0,
      "outputs": []
    },
    {
      "cell_type": "code",
      "metadata": {
        "id": "zsUZJ8I1zclh",
        "colab_type": "code",
        "outputId": "fd0b31e8-828b-4884-d6e6-c19ed33c3f70",
        "colab": {
          "base_uri": "https://localhost:8080/",
          "height": 1000
        }
      },
      "source": [
        "model.fit(x_train, y_train, epochs=100)"
      ],
      "execution_count": 132,
      "outputs": [
        {
          "output_type": "stream",
          "text": [
            "Train on 50000 samples\n",
            "Epoch 1/100\n",
            "50000/50000 [==============================] - 9s 181us/sample - loss: 1.5980 - sparse_categorical_accuracy: 0.4131\n",
            "Epoch 2/100\n",
            "50000/50000 [==============================] - 9s 171us/sample - loss: 1.1097 - sparse_categorical_accuracy: 0.6018\n",
            "Epoch 3/100\n",
            "50000/50000 [==============================] - 9s 171us/sample - loss: 0.9109 - sparse_categorical_accuracy: 0.6763\n",
            "Epoch 4/100\n",
            "50000/50000 [==============================] - 9s 173us/sample - loss: 0.7909 - sparse_categorical_accuracy: 0.7208\n",
            "Epoch 5/100\n",
            "50000/50000 [==============================] - 9s 174us/sample - loss: 0.7027 - sparse_categorical_accuracy: 0.7526\n",
            "Epoch 6/100\n",
            "50000/50000 [==============================] - 8s 169us/sample - loss: 0.6353 - sparse_categorical_accuracy: 0.7782\n",
            "Epoch 7/100\n",
            "50000/50000 [==============================] - 8s 168us/sample - loss: 0.5883 - sparse_categorical_accuracy: 0.7920\n",
            "Epoch 8/100\n",
            "50000/50000 [==============================] - 9s 178us/sample - loss: 0.5387 - sparse_categorical_accuracy: 0.8110\n",
            "Epoch 9/100\n",
            "50000/50000 [==============================] - 8s 169us/sample - loss: 0.5000 - sparse_categorical_accuracy: 0.8237\n",
            "Epoch 10/100\n",
            "50000/50000 [==============================] - 8s 169us/sample - loss: 0.4638 - sparse_categorical_accuracy: 0.8348\n",
            "Epoch 11/100\n",
            "50000/50000 [==============================] - 9s 171us/sample - loss: 0.4341 - sparse_categorical_accuracy: 0.8464\n",
            "Epoch 12/100\n",
            "50000/50000 [==============================] - 9s 174us/sample - loss: 0.4071 - sparse_categorical_accuracy: 0.8560\n",
            "Epoch 13/100\n",
            "50000/50000 [==============================] - 8s 168us/sample - loss: 0.3865 - sparse_categorical_accuracy: 0.8620\n",
            "Epoch 14/100\n",
            "50000/50000 [==============================] - 8s 166us/sample - loss: 0.3644 - sparse_categorical_accuracy: 0.8707\n",
            "Epoch 15/100\n",
            "50000/50000 [==============================] - 9s 175us/sample - loss: 0.3431 - sparse_categorical_accuracy: 0.8787\n",
            "Epoch 16/100\n",
            "50000/50000 [==============================] - 9s 174us/sample - loss: 0.3282 - sparse_categorical_accuracy: 0.8835\n",
            "Epoch 17/100\n",
            "50000/50000 [==============================] - 9s 173us/sample - loss: 0.3077 - sparse_categorical_accuracy: 0.8915\n",
            "Epoch 18/100\n",
            "50000/50000 [==============================] - 9s 172us/sample - loss: 0.2970 - sparse_categorical_accuracy: 0.8942\n",
            "Epoch 19/100\n",
            "50000/50000 [==============================] - 9s 179us/sample - loss: 0.2934 - sparse_categorical_accuracy: 0.8968\n",
            "Epoch 20/100\n",
            "50000/50000 [==============================] - 9s 174us/sample - loss: 0.2780 - sparse_categorical_accuracy: 0.9010\n",
            "Epoch 21/100\n",
            "50000/50000 [==============================] - 9s 171us/sample - loss: 0.2595 - sparse_categorical_accuracy: 0.9082\n",
            "Epoch 22/100\n",
            "50000/50000 [==============================] - 8s 170us/sample - loss: 0.2653 - sparse_categorical_accuracy: 0.9068\n",
            "Epoch 23/100\n",
            "50000/50000 [==============================] - 9s 180us/sample - loss: 0.2644 - sparse_categorical_accuracy: 0.9060\n",
            "Epoch 24/100\n",
            "50000/50000 [==============================] - 9s 170us/sample - loss: 0.2426 - sparse_categorical_accuracy: 0.9146\n",
            "Epoch 25/100\n",
            "50000/50000 [==============================] - 9s 175us/sample - loss: 0.2417 - sparse_categorical_accuracy: 0.9150\n",
            "Epoch 26/100\n",
            "50000/50000 [==============================] - 9s 173us/sample - loss: 0.2330 - sparse_categorical_accuracy: 0.9179\n",
            "Epoch 27/100\n",
            "50000/50000 [==============================] - 9s 170us/sample - loss: 0.2346 - sparse_categorical_accuracy: 0.9192\n",
            "Epoch 28/100\n",
            "50000/50000 [==============================] - 9s 171us/sample - loss: 0.2298 - sparse_categorical_accuracy: 0.9211\n",
            "Epoch 29/100\n",
            "50000/50000 [==============================] - 9s 173us/sample - loss: 0.2182 - sparse_categorical_accuracy: 0.9251\n",
            "Epoch 30/100\n",
            "50000/50000 [==============================] - 9s 171us/sample - loss: 0.2134 - sparse_categorical_accuracy: 0.9252\n",
            "Epoch 31/100\n",
            "50000/50000 [==============================] - 8s 168us/sample - loss: 0.2123 - sparse_categorical_accuracy: 0.9265\n",
            "Epoch 32/100\n",
            "50000/50000 [==============================] - 10s 196us/sample - loss: 0.2103 - sparse_categorical_accuracy: 0.9286\n",
            "Epoch 33/100\n",
            "50000/50000 [==============================] - 9s 171us/sample - loss: 0.2055 - sparse_categorical_accuracy: 0.9283\n",
            "Epoch 34/100\n",
            "50000/50000 [==============================] - 9s 171us/sample - loss: 0.1972 - sparse_categorical_accuracy: 0.9327\n",
            "Epoch 35/100\n",
            "50000/50000 [==============================] - 9s 174us/sample - loss: 0.2039 - sparse_categorical_accuracy: 0.9306\n",
            "Epoch 36/100\n",
            "50000/50000 [==============================] - 9s 173us/sample - loss: 0.1939 - sparse_categorical_accuracy: 0.9318\n",
            "Epoch 37/100\n",
            "50000/50000 [==============================] - 9s 173us/sample - loss: 0.1953 - sparse_categorical_accuracy: 0.9327\n",
            "Epoch 38/100\n",
            "50000/50000 [==============================] - 8s 170us/sample - loss: 0.1943 - sparse_categorical_accuracy: 0.9321\n",
            "Epoch 39/100\n",
            "50000/50000 [==============================] - 9s 175us/sample - loss: 0.1857 - sparse_categorical_accuracy: 0.9370\n",
            "Epoch 40/100\n",
            "50000/50000 [==============================] - 9s 177us/sample - loss: 0.1991 - sparse_categorical_accuracy: 0.9307\n",
            "Epoch 41/100\n",
            "50000/50000 [==============================] - 8s 169us/sample - loss: 0.1901 - sparse_categorical_accuracy: 0.9363\n",
            "Epoch 42/100\n",
            "50000/50000 [==============================] - 9s 176us/sample - loss: 0.1857 - sparse_categorical_accuracy: 0.9376\n",
            "Epoch 43/100\n",
            "50000/50000 [==============================] - 9s 174us/sample - loss: 0.1886 - sparse_categorical_accuracy: 0.9362\n",
            "Epoch 44/100\n",
            "50000/50000 [==============================] - 9s 173us/sample - loss: 0.1918 - sparse_categorical_accuracy: 0.9364\n",
            "Epoch 45/100\n",
            "50000/50000 [==============================] - 9s 174us/sample - loss: 0.1821 - sparse_categorical_accuracy: 0.9391\n",
            "Epoch 46/100\n",
            "50000/50000 [==============================] - 9s 173us/sample - loss: 0.1900 - sparse_categorical_accuracy: 0.9371\n",
            "Epoch 47/100\n",
            "50000/50000 [==============================] - 9s 176us/sample - loss: 0.1748 - sparse_categorical_accuracy: 0.9419\n",
            "Epoch 48/100\n",
            "50000/50000 [==============================] - 8s 166us/sample - loss: 0.1892 - sparse_categorical_accuracy: 0.9379\n",
            "Epoch 49/100\n",
            "50000/50000 [==============================] - 9s 176us/sample - loss: 0.1783 - sparse_categorical_accuracy: 0.9408\n",
            "Epoch 50/100\n",
            "50000/50000 [==============================] - 9s 174us/sample - loss: 0.1773 - sparse_categorical_accuracy: 0.9414\n",
            "Epoch 51/100\n",
            "50000/50000 [==============================] - 9s 171us/sample - loss: 0.1775 - sparse_categorical_accuracy: 0.9413\n",
            "Epoch 52/100\n",
            "50000/50000 [==============================] - 9s 173us/sample - loss: 0.1840 - sparse_categorical_accuracy: 0.9402\n",
            "Epoch 53/100\n",
            "50000/50000 [==============================] - 9s 179us/sample - loss: 0.1679 - sparse_categorical_accuracy: 0.9454\n",
            "Epoch 54/100\n",
            "50000/50000 [==============================] - 9s 180us/sample - loss: 0.1782 - sparse_categorical_accuracy: 0.9417\n",
            "Epoch 55/100\n",
            "50000/50000 [==============================] - 9s 172us/sample - loss: 0.1701 - sparse_categorical_accuracy: 0.9451\n",
            "Epoch 56/100\n",
            "50000/50000 [==============================] - 9s 177us/sample - loss: 0.1787 - sparse_categorical_accuracy: 0.9429\n",
            "Epoch 57/100\n",
            "50000/50000 [==============================] - 9s 177us/sample - loss: 0.1733 - sparse_categorical_accuracy: 0.9430\n",
            "Epoch 58/100\n",
            "50000/50000 [==============================] - 9s 175us/sample - loss: 0.1830 - sparse_categorical_accuracy: 0.9406\n",
            "Epoch 59/100\n",
            "50000/50000 [==============================] - 9s 182us/sample - loss: 0.1659 - sparse_categorical_accuracy: 0.9466\n",
            "Epoch 60/100\n",
            "50000/50000 [==============================] - 9s 173us/sample - loss: 0.1679 - sparse_categorical_accuracy: 0.9452\n",
            "Epoch 61/100\n",
            "50000/50000 [==============================] - 9s 180us/sample - loss: 0.1739 - sparse_categorical_accuracy: 0.9441\n",
            "Epoch 62/100\n",
            "50000/50000 [==============================] - 9s 179us/sample - loss: 0.1708 - sparse_categorical_accuracy: 0.9439\n",
            "Epoch 63/100\n",
            "50000/50000 [==============================] - 9s 188us/sample - loss: 0.1691 - sparse_categorical_accuracy: 0.9450\n",
            "Epoch 64/100\n",
            "50000/50000 [==============================] - 9s 180us/sample - loss: 0.1704 - sparse_categorical_accuracy: 0.9448\n",
            "Epoch 65/100\n",
            "50000/50000 [==============================] - 9s 182us/sample - loss: 0.1641 - sparse_categorical_accuracy: 0.9472\n",
            "Epoch 66/100\n",
            "50000/50000 [==============================] - 9s 185us/sample - loss: 0.1772 - sparse_categorical_accuracy: 0.9438\n",
            "Epoch 67/100\n",
            "50000/50000 [==============================] - 9s 180us/sample - loss: 0.1702 - sparse_categorical_accuracy: 0.9463\n",
            "Epoch 68/100\n",
            "50000/50000 [==============================] - 9s 184us/sample - loss: 0.1706 - sparse_categorical_accuracy: 0.9472\n",
            "Epoch 69/100\n",
            "50000/50000 [==============================] - 9s 184us/sample - loss: 0.1613 - sparse_categorical_accuracy: 0.9481\n",
            "Epoch 70/100\n",
            "50000/50000 [==============================] - 9s 186us/sample - loss: 0.1686 - sparse_categorical_accuracy: 0.9487\n",
            "Epoch 71/100\n",
            "50000/50000 [==============================] - 9s 183us/sample - loss: 0.1588 - sparse_categorical_accuracy: 0.9497\n",
            "Epoch 72/100\n",
            "50000/50000 [==============================] - 9s 182us/sample - loss: 0.1653 - sparse_categorical_accuracy: 0.9480\n",
            "Epoch 73/100\n",
            "50000/50000 [==============================] - 9s 185us/sample - loss: 0.1630 - sparse_categorical_accuracy: 0.9496\n",
            "Epoch 74/100\n",
            "50000/50000 [==============================] - 9s 184us/sample - loss: 0.1568 - sparse_categorical_accuracy: 0.9527\n",
            "Epoch 75/100\n",
            "50000/50000 [==============================] - 9s 179us/sample - loss: 0.1543 - sparse_categorical_accuracy: 0.9527\n",
            "Epoch 76/100\n",
            "50000/50000 [==============================] - 9s 183us/sample - loss: 0.1596 - sparse_categorical_accuracy: 0.9498\n",
            "Epoch 77/100\n",
            "50000/50000 [==============================] - 9s 180us/sample - loss: 0.1633 - sparse_categorical_accuracy: 0.9506\n",
            "Epoch 78/100\n",
            "50000/50000 [==============================] - 9s 176us/sample - loss: 0.1532 - sparse_categorical_accuracy: 0.9525\n",
            "Epoch 79/100\n",
            "50000/50000 [==============================] - 9s 180us/sample - loss: 0.1603 - sparse_categorical_accuracy: 0.9506\n",
            "Epoch 80/100\n",
            "50000/50000 [==============================] - 10s 191us/sample - loss: 0.1509 - sparse_categorical_accuracy: 0.9537\n",
            "Epoch 81/100\n",
            "50000/50000 [==============================] - 9s 180us/sample - loss: 0.1631 - sparse_categorical_accuracy: 0.9510\n",
            "Epoch 82/100\n",
            "50000/50000 [==============================] - 9s 183us/sample - loss: 0.1565 - sparse_categorical_accuracy: 0.9516\n",
            "Epoch 83/100\n",
            "50000/50000 [==============================] - 9s 182us/sample - loss: 0.1552 - sparse_categorical_accuracy: 0.9521\n",
            "Epoch 84/100\n",
            "50000/50000 [==============================] - 9s 186us/sample - loss: 0.1555 - sparse_categorical_accuracy: 0.9525\n",
            "Epoch 85/100\n",
            "50000/50000 [==============================] - 9s 179us/sample - loss: 0.1546 - sparse_categorical_accuracy: 0.9535\n",
            "Epoch 86/100\n",
            "50000/50000 [==============================] - 9s 176us/sample - loss: 0.1382 - sparse_categorical_accuracy: 0.9588\n",
            "Epoch 87/100\n",
            "50000/50000 [==============================] - 9s 175us/sample - loss: 0.1481 - sparse_categorical_accuracy: 0.9543\n",
            "Epoch 88/100\n",
            "50000/50000 [==============================] - 9s 177us/sample - loss: 0.1576 - sparse_categorical_accuracy: 0.9525\n",
            "Epoch 89/100\n",
            "50000/50000 [==============================] - 9s 177us/sample - loss: 0.1523 - sparse_categorical_accuracy: 0.9540\n",
            "Epoch 90/100\n",
            "50000/50000 [==============================] - 9s 178us/sample - loss: 0.1555 - sparse_categorical_accuracy: 0.9525\n",
            "Epoch 91/100\n",
            "50000/50000 [==============================] - 8s 170us/sample - loss: 0.1520 - sparse_categorical_accuracy: 0.9550\n",
            "Epoch 92/100\n",
            "50000/50000 [==============================] - 9s 174us/sample - loss: 0.1383 - sparse_categorical_accuracy: 0.9590\n",
            "Epoch 93/100\n",
            "50000/50000 [==============================] - 9s 185us/sample - loss: 0.1595 - sparse_categorical_accuracy: 0.9536\n",
            "Epoch 94/100\n",
            "50000/50000 [==============================] - 9s 184us/sample - loss: 0.1480 - sparse_categorical_accuracy: 0.9566\n",
            "Epoch 95/100\n",
            "50000/50000 [==============================] - 9s 174us/sample - loss: 0.1477 - sparse_categorical_accuracy: 0.9562\n",
            "Epoch 96/100\n",
            "50000/50000 [==============================] - 9s 180us/sample - loss: 0.1484 - sparse_categorical_accuracy: 0.9564\n",
            "Epoch 97/100\n",
            "50000/50000 [==============================] - 9s 174us/sample - loss: 0.1458 - sparse_categorical_accuracy: 0.9562\n",
            "Epoch 98/100\n",
            "50000/50000 [==============================] - 9s 175us/sample - loss: 0.1405 - sparse_categorical_accuracy: 0.9584\n",
            "Epoch 99/100\n",
            "50000/50000 [==============================] - 9s 178us/sample - loss: 0.1419 - sparse_categorical_accuracy: 0.9584\n",
            "Epoch 100/100\n",
            "50000/50000 [==============================] - 9s 180us/sample - loss: 0.1441 - sparse_categorical_accuracy: 0.9573\n"
          ],
          "name": "stdout"
        },
        {
          "output_type": "execute_result",
          "data": {
            "text/plain": [
              "<tensorflow.python.keras.callbacks.History at 0x7f7d4de23cf8>"
            ]
          },
          "metadata": {
            "tags": []
          },
          "execution_count": 132
        }
      ]
    },
    {
      "cell_type": "code",
      "metadata": {
        "id": "i--Txcftzg7k",
        "colab_type": "code",
        "colab": {
          "base_uri": "https://localhost:8080/",
          "height": 317
        },
        "outputId": "7e1f49b4-5fb2-43d4-e7f8-8fbe81ce910e"
      },
      "source": [
        "# Predict from test Set\n",
        "prediction =  model.predict(x_test)[9] \n",
        "index =  np.argmax(  prediction  ) \n",
        "print( prediction[index] )\n",
        "print( classes[y_test[index][0]] )\n",
        "plt.imshow(x_test[index])"
      ],
      "execution_count": 137,
      "outputs": [
        {
          "output_type": "stream",
          "text": [
            "0.99998426\n",
            "ship \n"
          ],
          "name": "stdout"
        },
        {
          "output_type": "execute_result",
          "data": {
            "text/plain": [
              "<matplotlib.image.AxesImage at 0x7f7d4db289e8>"
            ]
          },
          "metadata": {
            "tags": []
          },
          "execution_count": 137
        },
        {
          "output_type": "display_data",
          "data": {
            "image/png": "[encoded data removed]",
            "text/plain": [
              "<Figure size 432x288 with 1 Axes>"
            ]
          },
          "metadata": {
            "tags": []
          }
        }
      ]
    },
    {
      "cell_type": "code",
      "metadata": {
        "id": "9LCngjJyUpX-",
        "colab_type": "code",
        "colab": {
          "base_uri": "https://localhost:8080/",
          "height": 334
        },
        "outputId": "40aec43e-4cd3-4d00-9b5a-80cb80943443"
      },
      "source": [
        "# Predict from url \n",
        "import cv2\n",
        "import urllib.request\n",
        "from PIL import Image\n",
        "image = Image. open(urllib.request.urlopen(\"https://i.insider.com/5cbf50dfd1a2f8074406a8b2?width=1100&format=jpeg&auto=webp\"))\n",
        "numpy_image = np.array(image)\n",
        "numpy_image = numpy_image/255\n",
        "resized_image = cv2.resize(numpy_image, dsize=(32, 32), interpolation=cv2.INTER_CUBIC)\n",
        "prediction = model.predict([[  resized_image   ]])[0]\n",
        "index =  np.argmax( prediction )\n",
        "print( classes[index] )\n",
        "print( prediction[index] )\n",
        "plt.imshow(resized_image)"
      ],
      "execution_count": 138,
      "outputs": [
        {
          "output_type": "stream",
          "text": [
            "Clipping input data to the valid range for imshow with RGB data ([0..1] for floats or [0..255] for integers).\n"
          ],
          "name": "stderr"
        },
        {
          "output_type": "stream",
          "text": [
            "ship \n",
            "0.99466777\n"
          ],
          "name": "stdout"
        },
        {
          "output_type": "execute_result",
          "data": {
            "text/plain": [
              "<matplotlib.image.AxesImage at 0x7f7d4db05dd8>"
            ]
          },
          "metadata": {
            "tags": []
          },
          "execution_count": 138
        },
        {
          "output_type": "display_data",
          "data": {
            "image/png": "[encoded data removed]",
            "text/plain": [
              "<Figure size 432x288 with 1 Axes>"
            ]
          },
          "metadata": {
            "tags": []
          }
        }
      ]
    },
    {
      "cell_type": "code",
      "metadata": {
        "id": "pAvuyhVTcZqe",
        "colab_type": "code",
        "colab": {}
      },
      "source": [
        ""
      ],
      "execution_count": 0,
      "outputs": []
    }
  ]
}